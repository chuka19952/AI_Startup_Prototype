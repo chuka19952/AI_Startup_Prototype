{
  "nbformat": 4,
  "nbformat_minor": 0,
  "metadata": {
    "colab": {
      "name": "vaccine scrapper.ipynb",
      "provenance": [],
      "collapsed_sections": [],
      "include_colab_link": true
    },
    "kernelspec": {
      "name": "python3",
      "display_name": "Python 3"
    },
    "language_info": {
      "name": "python"
    }
  },
  "cells": [
    {
      "cell_type": "markdown",
      "metadata": {
        "id": "view-in-github",
        "colab_type": "text"
      },
      "source": [
        "<a href=\"https://colab.research.google.com/github/chuka19952/AI_Startup_Prototype/blob/master/vaccine_scrapper.ipynb\" target=\"_parent\"><img src=\"https://colab.research.google.com/assets/colab-badge.svg\" alt=\"Open In Colab\"/></a>"
      ]
    },
    {
      "cell_type": "code",
      "metadata": {
        "id": "xwHaRJpruXsz"
      },
      "source": [
        "!pip install -q snscrape==0.3.4"
      ],
      "execution_count": 1,
      "outputs": []
    },
    {
      "cell_type": "code",
      "metadata": {
        "id": "nD7B3adiubGG"
      },
      "source": [
        "import os\n",
        "import pandas as pd\n",
        "from datetime import date"
      ],
      "execution_count": 2,
      "outputs": []
    },
    {
      "cell_type": "code",
      "metadata": {
        "id": "uNhZNSNavwGQ",
        "colab": {
          "base_uri": "https://localhost:8080/"
        },
        "outputId": "a34f3ba1-785b-40c6-b1c1-82f56f742414"
      },
      "source": [
        "today = date.today()\n",
        "end_date = today\n",
        "print(end_date)"
      ],
      "execution_count": 4,
      "outputs": [
        {
          "output_type": "stream",
          "name": "stdout",
          "text": [
            "2021-11-04\n"
          ]
        }
      ]
    },
    {
      "cell_type": "code",
      "metadata": {
        "id": "lUFINzS2yNem"
      },
      "source": [
        "search_term = 'covid vaccine'\n",
        "from_date = '2021-11-03'"
      ],
      "execution_count": 17,
      "outputs": []
    },
    {
      "cell_type": "markdown",
      "metadata": {
        "id": "dx9KjHTi4Fxj"
      },
      "source": [
        "# Total Number of Tweets for Search Terms"
      ]
    },
    {
      "cell_type": "code",
      "metadata": {
        "colab": {
          "base_uri": "https://localhost:8080/"
        },
        "id": "I0fFOKpLwBGF",
        "outputId": "2d07b27c-a943-47af-b3af-3dc9ff7d652d"
      },
      "source": [
        "os.system(f\"snscrape --since {from_date} twitter-search '{search_term} until:{end_date}' > result-tweets.txt\")\n",
        "if os.stat(\"result-tweets.txt\").st_size == 0:\n",
        "  counter = 0\n",
        "else:\n",
        "  df = pd.read_csv('result-tweets.txt', names=['link'])\n",
        "  counter = df.size\n",
        "\n",
        "print('Number Of Tweets : '+ str(counter))"
      ],
      "execution_count": 18,
      "outputs": [
        {
          "output_type": "stream",
          "name": "stdout",
          "text": [
            "Number Of Tweets : 35400\n"
          ]
        }
      ]
    },
    {
      "cell_type": "code",
      "metadata": {
        "id": "kk-isicpHc28"
      },
      "source": [
        ""
      ],
      "execution_count": 16,
      "outputs": []
    },
    {
      "cell_type": "markdown",
      "metadata": {
        "id": "iFN4VxqK4KDU"
      },
      "source": [
        "# Extracting Exact Tweeets"
      ]
    },
    {
      "cell_type": "code",
      "metadata": {
        "id": "GGUawFA0xTG3"
      },
      "source": [
        "max_results = 35400"
      ],
      "execution_count": 23,
      "outputs": []
    },
    {
      "cell_type": "code",
      "metadata": {
        "id": "AWseHfDmwYCw"
      },
      "source": [
        "extracted_tweets = \"snscrape --format '{content!r}'\"+ f\" --max-results {max_results} --since {from_date} twitter-search '{search_term} until:{end_date}' > extracted-tweets.txt\"\n",
        "os.system(extracted_tweets)\n",
        "if os.stat(\"extracted-tweets.txt\").st_size == 0:\n",
        "  print('No Tweets found')\n",
        "else:\n",
        "  df = pd.read_csv('extracted-tweets.txt', names=['content'])\n",
        "  # for row in df['content'].iteritems():\n",
        "  #   print(row)"
      ],
      "execution_count": 25,
      "outputs": []
    },
    {
      "cell_type": "code",
      "metadata": {
        "colab": {
          "base_uri": "https://localhost:8080/",
          "height": 175
        },
        "id": "2dRfZKPQNdG_",
        "outputId": "2af1bf6b-d27a-4ce9-b49b-91b2bf261562"
      },
      "source": [
        "df.describe()"
      ],
      "execution_count": 27,
      "outputs": [
        {
          "output_type": "execute_result",
          "data": {
            "text/html": [
              "<div>\n",
              "<style scoped>\n",
              "    .dataframe tbody tr th:only-of-type {\n",
              "        vertical-align: middle;\n",
              "    }\n",
              "\n",
              "    .dataframe tbody tr th {\n",
              "        vertical-align: top;\n",
              "    }\n",
              "\n",
              "    .dataframe thead th {\n",
              "        text-align: right;\n",
              "    }\n",
              "</style>\n",
              "<table border=\"1\" class=\"dataframe\">\n",
              "  <thead>\n",
              "    <tr style=\"text-align: right;\">\n",
              "      <th></th>\n",
              "      <th>content</th>\n",
              "    </tr>\n",
              "  </thead>\n",
              "  <tbody>\n",
              "    <tr>\n",
              "      <th>count</th>\n",
              "      <td>35164</td>\n",
              "    </tr>\n",
              "    <tr>\n",
              "      <th>unique</th>\n",
              "      <td>33642</td>\n",
              "    </tr>\n",
              "    <tr>\n",
              "      <th>top</th>\n",
              "      <td>'CVS</td>\n",
              "    </tr>\n",
              "    <tr>\n",
              "      <th>freq</th>\n",
              "      <td>47</td>\n",
              "    </tr>\n",
              "  </tbody>\n",
              "</table>\n",
              "</div>"
            ],
            "text/plain": [
              "       content\n",
              "count    35164\n",
              "unique   33642\n",
              "top       'CVS\n",
              "freq        47"
            ]
          },
          "metadata": {},
          "execution_count": 27
        }
      ]
    },
    {
      "cell_type": "code",
      "metadata": {
        "colab": {
          "base_uri": "https://localhost:8080/",
          "height": 206
        },
        "id": "-BdCEg_gSjMV",
        "outputId": "23c0e080-b849-428d-dc84-205f5dc15d35"
      },
      "source": [
        "df.head()"
      ],
      "execution_count": 28,
      "outputs": [
        {
          "output_type": "execute_result",
          "data": {
            "text/html": [
              "<div>\n",
              "<style scoped>\n",
              "    .dataframe tbody tr th:only-of-type {\n",
              "        vertical-align: middle;\n",
              "    }\n",
              "\n",
              "    .dataframe tbody tr th {\n",
              "        vertical-align: top;\n",
              "    }\n",
              "\n",
              "    .dataframe thead th {\n",
              "        text-align: right;\n",
              "    }\n",
              "</style>\n",
              "<table border=\"1\" class=\"dataframe\">\n",
              "  <thead>\n",
              "    <tr style=\"text-align: right;\">\n",
              "      <th></th>\n",
              "      <th>content</th>\n",
              "    </tr>\n",
              "  </thead>\n",
              "  <tbody>\n",
              "    <tr>\n",
              "      <th>0</th>\n",
              "      <td>'@dave_rohl @MartinGorrie I have been jabbed. ...</td>\n",
              "    </tr>\n",
              "    <tr>\n",
              "      <th>1</th>\n",
              "      <td>'COVID-19 Vaccine Checklist for Kids Age 5 and...</td>\n",
              "    </tr>\n",
              "    <tr>\n",
              "      <th>2</th>\n",
              "      <td>'@SenRickScott Vaccine mandates protect worker...</td>\n",
              "    </tr>\n",
              "    <tr>\n",
              "      <th>3</th>\n",
              "      <td>'Ontario will NOT mandate COVID-19 vaccine pol...</td>\n",
              "    </tr>\n",
              "    <tr>\n",
              "      <th>4</th>\n",
              "      <td>Many of my colleagues who have young kids saw ...</td>\n",
              "    </tr>\n",
              "  </tbody>\n",
              "</table>\n",
              "</div>"
            ],
            "text/plain": [
              "                                             content\n",
              "0  '@dave_rohl @MartinGorrie I have been jabbed. ...\n",
              "1  'COVID-19 Vaccine Checklist for Kids Age 5 and...\n",
              "2  '@SenRickScott Vaccine mandates protect worker...\n",
              "3  'Ontario will NOT mandate COVID-19 vaccine pol...\n",
              "4  Many of my colleagues who have young kids saw ..."
            ]
          },
          "metadata": {},
          "execution_count": 28
        }
      ]
    },
    {
      "cell_type": "code",
      "metadata": {
        "id": "Dy6DGB3USjIq"
      },
      "source": [
        ""
      ],
      "execution_count": null,
      "outputs": []
    },
    {
      "cell_type": "code",
      "metadata": {
        "id": "oVlpNHeLSjDK"
      },
      "source": [
        ""
      ],
      "execution_count": null,
      "outputs": []
    },
    {
      "cell_type": "code",
      "metadata": {
        "id": "1qArr9fSSi_h"
      },
      "source": [
        ""
      ],
      "execution_count": null,
      "outputs": []
    },
    {
      "cell_type": "markdown",
      "metadata": {
        "id": "MWWTBnwS4Ofr"
      },
      "source": [
        "# Extracting Tweets from Users"
      ]
    },
    {
      "cell_type": "code",
      "metadata": {
        "colab": {
          "base_uri": "https://localhost:8080/"
        },
        "id": "uFBwPec2zSr6",
        "outputId": "8f707176-4c14-4e73-c1c3-a23d567b52a8"
      },
      "source": [
        "user_name = \"SamdGreat01\"\n",
        "user_tweets = \"snscrape --format '{content!r}'\"+ f\" --max-results {max_results} --since {from_date} twitter-user '{user_name} until:{end_date}' > user-tweets.txt\"\n",
        "os.system(user_tweets)\n",
        "if os.stat(\"user-tweets.txt\").st_size == 0:\n",
        "  print('No Tweets found')\n",
        "else:\n",
        "  df = pd.read_csv('user-tweets.txt', names=['content'])\n",
        "  for row in df['content'].iteritems():\n",
        "    print(row)"
      ],
      "execution_count": 11,
      "outputs": [
        {
          "output_type": "stream",
          "name": "stdout",
          "text": [
            "(0, \"I'm live\\\\n\\\\nhttps://t.co/kZjCem3nfj\")\n",
            "(1, \"'How and why should you DIY (Do It Yourself)\\\\n\\\\nJoin me on my space here on youtube.\\\\n\\\\nCome with your questions\\\\n\\\\nhttps://t.co/5CclNTCnlP https://t.co/E9PZJLofs5'\")\n",
            "(2, \"@Kentheo_17 @UniIbadan I don't think so too\")\n",
            "(3, \"'@Bhordemarz Ehmm\")\n",
            "(4, \"'@Jamaticulus Happy birthday dear brother\\\\n\\\\nEnjoy'\")\n",
            "(5, \"That message of good news is around the corner\\\\n\\\\nDon't lose hope\")\n",
            "(6, \"Theraja is so popular in Nigeria\\\\n\\\\nKA Stroud though has the best Engineering Mathematics textbook I've seen for beginners. He's not Indian https://t.co/n2Q8MG6Ndn\")\n",
            "(7, \"@KenekeEdwin You're right\")\n",
            "(8, \"I love you to assume I don't know it than assume I know it 😀 https://t.co/BZ2O1rPfC6\")\n",
            "(9, \"I'll try &amp; watch my words saying this so I don't offend professors from many countries\\\\n\\\\nI have listened to divers lectures online &amp; my observation is that I seem to understand Indian professors better\\\\n\\\\nEven as an undergraduate, I used more of Indian textbooks. Others were backup\")\n",
            "(10, \"'@olumuyiwaayo @Scholarshipcaf2 Wow!\\\\n\\\\nI doff my hat sir'\")\n",
            "(11, \"'@matajson 😂😂😂😂'\")\n",
            "(12, \"'I say it again\\\\n\\\\nC Ronaldo\")\n",
            "(13, \"'Have you reviewed SOPs or cold emails that sounded like this before?\\\\n\\\\nYou go fear people https://t.co/AN2a7yrzzN'\")\n",
            "(14, \"@Oludeewon It's a big step forward\")\n",
            "(15, \"'@Oludeewon Congratulations 🎉'\")\n",
            "(16, \"'C Ronaldo\")\n",
            "(17, \"That's why mine brings cocomelon and other nursery rhymes https://t.co/V71nfJJ6Ag\")\n",
            "(18, \"@iam_MadukweUC It can appear in both\\\\n\\\\nYou can explain briefly what you've done or can do with the skill in the SOP\")\n",
            "(19, \"'@BrianNeugent Yes definitely 😀'\")\n",
            "(20, \"'Who can recommend YouTube channels teaching programming https://t.co/S6Vi6a52vW'\")\n",
            "(21, \"'@olumuyiwaayo @Adefisanlekan @Jamaticulus @sjay_yayy I concur'\")\n",
            "(22, \"'You can learn almost anything on YouTube'\")\n",
            "(23, \"'@Highbeekae1 Start by learning free on YouTube'\")\n",
            "(24, \"'@AmeboSophie You get the logic'\")\n",
            "(25, \"'@Oyimatology @elonmusk That will always be true'\")\n",
            "(26, \"'@olorunwababs 😀😀😀'\")\n",
            "(27, \"@olorunwababs @MBuhari That's very true.\\\\n\\\\nAction plan\")\n",
            "(28, \"'@abolajifemi Abi now'\")\n",
            "(29, \"'@Oyimatology @elonmusk 😀😀'\")\n",
            "(30, \"Get a degree if you have the opportunity\\\\n\\\\nThe Bill Gates, Zuckerberg examples of drop outs are usually the exemptions\\\\n\\\\nThere are millions more who dropped out and we didn't hear about them\\\\n\\\\nWhy? Nothing significant to be told about them\\\\n\\\\nSo get that degree\")\n",
            "(31, \"What you didn't add is that we have thousands or millions more who didn't graduate college https://t.co/xTmzmxEYFe\")\n",
            "(32, \"@olorunwababs @MBuhari Do you trust that commitment given our heavy reliance on oil\\\\n\\\\nIf western world say 2050, we shouldn't even say anything yet. What's the alternative for us?\")\n",
            "(33, \"'@B_akwaugo Python\")\n",
            "(34, \"'Programming skills will always be a plus in your application to graduate school\\\\n\\\\nAlmost every research area now has something to do with this\\\\n\\\\nLearn in if you still can'\")\n",
            "(35, \"When you send your cold email, you don't need to put all your life experiences in the message\\\\n\\\\nAdd only experiences that matter to what you're applying for\\\\n\\\\nhttps://t.co/zSkDbyOYBr\")\n",
            "(36, \"'@GoodnessAdeosun And this is beautiful Goodness'\")\n",
            "(37, \"@Success_Aisa Yee, I'm not receiving for now. I'm still with those sent in the past 30days\\\\n\\\\nIf you send, you'll have to wait a very long time\")\n",
            "(38, \"@TheMonarchArch1 @olumuyiwaayo @Iam_MrPackagin @Jamaticulus @matajson I don't know about that\")\n",
            "(39, \"'@EbooksPlug Yes every man should to understand women'\")\n",
            "(40, \"'@BethelUkazu Brother there are million excuses one can always find\\\\n\\\\nI know how I spent my data when I was still in Nigeria. All these excuses were there\\\\n\\\\nWhen there is a will\")\n",
            "(41, \"'@Moti_dqueen 😀😀'\")\n",
            "(42, \"'@AVA_LA_REINE @UniIbadan Not cancelled\\\\n\\\\nhttps://t.co/ig1RTY7xuN'\")\n",
            "(43, \"'@MabelAdewunmi @UniIbadan Beautiful ❤️'\")\n",
            "(44, \"'@unbent_ @UniIbadan Good'\")\n",
            "(45, \"'Someone is asking what of graduates\\\\n\\\\nAPS is for everyone involved with Physics or related matters\\\\n\\\\nStudents\")\n",
            "(46, \"'@KenekeEdwin @APSphysics Sure for graduates too'\")\n",
            "(47, \"@Cryptmenic Don't stop\")\n",
            "(48, \"'Daniel Regha is consistent with what he does\\\\n\\\\nAnd the guy is actually good\\\\n\\\\nSomeone should compile his funny comments into a single thread\\\\n\\\\nThat thread will go viral'\")\n",
            "(49, \"Dependents of f1 student visa holders ordinarily shouldn't have issues when they go to the embassy for their visa interviews\\\\n\\\\nI've however seen cases where Nigerians were denied more than once because of simple mistakes\\\\n\\\\nIt all starts from filling DS160\\\\n\\\\nhttps://t.co/oar8t8OuwN\")\n",
            "(50, \"Rejection is part of the journey\\\\n\\\\nDon't let it stop you from achieving what you set your mind on\\\\n\\\\nBounce back\")\n",
            "(51, \"'@Goddygbe Then wait\")\n",
            "(52, \"'@Goddygbe If you followed the process\")\n",
            "(53, \"@Queen_Naykah You're very much welcome\")\n",
            "(54, \"@RizamaVictor You're welcome\")\n",
            "(55, \"'@awotwe_eshun Do a quick search on google'\")\n",
            "(56, \"@KenekeEdwin Traumatized 😲\\\\n\\\\nKeep it well now so other small boys don't get traumatized\")\n",
            "(57, \"'@praize_oh Derek Jones'\")\n",
            "(58, \"'@Jesu_mylove Ahh\")\n",
            "(59, \"I know it's tough\\\\n\\\\nThe temptation is there I know\\\\n\\\\nIn fact I know you're tired\\\\n\\\\nBut please, please\\\\n\\\\nDon't give up\\\\n\\\\nYes you may take a break\\\\n\\\\nBut bounce back\\\\n\\\\nDon't give up\\\\n\\\\nhttps://t.co/I4rKsZGAco\")\n",
            "(60, \"'@i_benjamn_ 😲'\")\n",
            "(61, \"'Hopefully those trapped will be rescued alive https://t.co/Wielsx3zPw'\")\n",
            "(62, \"'@Deyosolae Yea really'\")\n",
            "(63, \"'All thanks to someone who decided to assist in reviewing some of the SOPs I still have with me\\\\n\\\\nThe Prof chose to remain anonymous'\")\n",
            "(64, \"'@Deyosolae The person typed SOP as message body in the email sent\\\\n\\\\nInstead of using word document or google document'\")\n",
            "(65, \"'Someone for real typed SOP as the message body and emailed it that way\\\\n\\\\nNo now\\\\n\\\\nUse word document and attach it'\")\n",
            "(66, \"'@WolewoleNaija Oh yeah\")\n",
            "(67, \"'@Oga_Sabi Oh a simple google search should lead you to amazon or other sites'\")\n",
            "(68, \"@Papinaani Congratulations my brother\\\\n\\\\nGlad you didn't give up\")\n",
            "(69, \"If you're a Physics student, you can become an @APSphysics member\\\\n\\\\nThere is a free student trial you can take advantage of to become a member for 1 year\\\\n\\\\nIf you reside in a developing country may even apply for free membership (Matching Membership)\\\\n\\\\nhttps://t.co/PdBvZFdJ1B\")\n",
            "(70, \"'@bufekabamoti Very very'\")\n",
            "(71, \"@AVA_LA_REINE @UniIbadan Are you saying it's been cancelled or you're asking?\")\n",
            "(72, \"'For the record\")\n",
            "(73, \"'@OlumideFasanmi 😀😀'\")\n",
            "(74, \"'Happy birthday to you Rinu\\\\n\\\\nThe fire will not be quenched https://t.co/Cl5G9UDAsn'\")\n",
            "(75, \"'@Yohanna____ Yea same here'\")\n",
            "(76, '\\'Today is my first time filling a form in the US and I found the option \"African\" under race/ethnicity...\\\\n\\\\nAll other times I\\\\\\'ve been forced to choose either Black or African American or Black American\\\\n\\\\nThe form is on equity and diversity so I\\\\\\'m not so surprised\\'')\n",
            "(77, \"'@oladimix wow!'\")\n",
            "(78, \"'@nugesjr Nice book'\")\n",
            "(79, \"'@TOlajumoke Yea very educative'\")\n",
            "(80, \"'@Ibierefa @fgnaija You should be able to find online'\")\n",
            "(81, \"'Really?\\\\n\\\\nWe were offered accommodation during my time https://t.co/yeodIjaRD7'\")\n",
            "(82, \"'Wicked teachers!\\\\n\\\\nThey will draw a car on the board and ask you to push the car'\")\n",
            "(83, \"'@matajson 😀😀'\")\n",
            "(84, \"'@joybhadmus I understand that'\")\n",
            "(85, \"'@erubamidele You can find it online'\")\n",
            "(86, \"You were in secondary school, that's expected\\\\n\\\\nHope you've finally been able to read it https://t.co/GBliJw9QKW\")\n",
            "(87, \"'@Planet75033060 Derek Jones'\")\n",
            "(88, \"'@fgnaija Yes'\")\n",
            "(89, \"'Undergraduate scholarship for international students at the University of Calgary\")\n",
            "(90, \"'@Alaaga_01 @UniIbadan @FUTAkure Do they currently have a program like that?'\")\n",
            "(91, \"'@FLijoka OPT is your answer. The process starts there after you complete your program'\")\n",
            "(92, '\\'There is a book I read before marriage which I believe every man should read\\\\n\\\\n\"Every Woman\"\\'')\n",
            "(93, \"I'm making a shout out to @UniIbadan for the Msc scholarships they give to first class graduates\\\\n\\\\nIf you benefited from this or know someone who did, pls help appreciate them\\\\n\\\\nSome of us wouldn't have been able to afford it\\\\n\\\\nOther Universities can learn from University of Ibadan https://t.co/pwSBLhwOln\")\n",
            "(94, '\\'Happy new month friends\\\\n\\\\nMay November be a month of \"yes\" to the requests you have made\\'')\n",
            "(95, \"'I love this https://t.co/3vJFvoVq72'\")\n",
            "(96, \"'@delgigsongz @AjibodeAdekunle Na so'\")\n",
            "(97, \"@OluwamayowaTJ Happy birthday Mayowa\\\\n\\\\nMay this new phase lead you into the full measure of God's plans and purposes for your life\")\n",
            "(98, \"'@Ijesha_canadian 😀😀😀\\\\n\\\\nEnjoy it my brother'\")\n",
            "(99, \"'@eniolakiite Ah we need empowerment\\\\n\\\\nJesus empowered his disciples before they went\\\\n\\\\nSapa no go make that commission work 😀'\")\n"
          ]
        }
      ]
    },
    {
      "cell_type": "code",
      "metadata": {
        "id": "d8uHfSmwzhDG"
      },
      "source": [
        ""
      ],
      "execution_count": null,
      "outputs": []
    }
  ]
}